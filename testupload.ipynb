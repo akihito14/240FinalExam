{
 "cells": [
  {
   "cell_type": "markdown",
   "metadata": {},
   "source": [
    "# Physics 240 \n",
    "## Intermediate Physics Laboratory\n",
    "### FINAL EXAM\n",
    "\n",
    "#### Instructions: \n",
    "Answer the following questions and typeset your answers within this notebook, \n",
    "using a mix of markdown and $\\LaTeX$ code. Some of your work will likely be done\n",
    "by hand; for this work, make sure to turn in these calculations, but still put the \n",
    "answers in this Jupyter Notebook. \n",
    "\n",
    "Follow the steps below and answer the questions as indicated."
   ]
  },
  {
   "cell_type": "markdown",
   "metadata": {},
   "source": [
    "## Step 1\n",
    "    a. Create a folder in your Documents folder called LastnameFirstname240FinalExam.\n",
    "    b. Create a new repository called 240FinalExam\n",
    "    c. Save this file into the above folder as LastnameFirstnameAnswers.ipynb \n",
    "    \n",
    "For example, if your name was Albert Einstein, you'd create a folder called\n",
    "EinsteinAlbert240FinalExam, then you would create a new GitHub repository called\n",
    "240FinalExam within this folder, and would save this file as \n",
    "EinsteinAlbertFinalAnswers.ipynb\n",
    "and upload the file to your github account. \n",
    "\n"
   ]
  }
 ],
 "metadata": {
  "kernelspec": {
   "display_name": "Python 3",
   "language": "python",
   "name": "python3"
  },
  "language_info": {
   "codemirror_mode": {
    "name": "ipython",
    "version": 3
   },
   "file_extension": ".py",
   "mimetype": "text/x-python",
   "name": "python",
   "nbconvert_exporter": "python",
   "pygments_lexer": "ipython3",
   "version": "3.5.1"
  }
 },
 "nbformat": 4,
 "nbformat_minor": 0
}
